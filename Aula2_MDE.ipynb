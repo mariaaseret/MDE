{
  "nbformat": 4,
  "nbformat_minor": 0,
  "metadata": {
    "colab": {
      "provenance": []
    },
    "kernelspec": {
      "name": "python3",
      "display_name": "Python 3"
    },
    "language_info": {
      "name": "python"
    }
  },
  "cells": [
    {
      "cell_type": "code",
      "execution_count": null,
      "metadata": {
        "id": "F5-DN95EHWyI",
        "colab": {
          "base_uri": "https://localhost:8080/"
        },
        "outputId": "1f82c54a-5bb2-41d3-97fc-c98e6aadfbc3"
      },
      "outputs": [
        {
          "output_type": "stream",
          "name": "stdout",
          "text": [
            "  sex  age  traveltime  studytime  failures schoolsup internet  freetime  \\\n",
            "0   F   18           2          2         0       yes       no         3   \n",
            "1   F   17           1          2         0        no      yes         3   \n",
            "2   F   15           1          2         3       yes      yes         3   \n",
            "3   F   15           1          3         0        no      yes         2   \n",
            "4   F   16           1          2         0        no       no         3   \n",
            "\n",
            "   absences  G1  approved  \n",
            "0         6   5         0  \n",
            "1         4   5         0  \n",
            "2        10   7         0  \n",
            "3         2  15         1  \n",
            "4         4   6         0  \n"
          ]
        }
      ],
      "source": [
        "import pandas as pd\n",
        "\n",
        "# Caminho do arquivo (ajuste se você moveu o arquivo para uma pasta)\n",
        "filepath = '/content/aula2.csv'\n",
        "\n",
        "# Ler o arquivo CSV com o delimitador especificado\n",
        "df = pd.read_csv(filepath, delimiter=';')\n",
        "\n",
        "# Mostrar as primeiras linhas do DataFrame para verificar os dados\n",
        "print(df.head(5))\n"
      ]
    },
    {
      "cell_type": "code",
      "source": [
        "# Para saber os tipos dos dados\n",
        "print(df.dtypes)"
      ],
      "metadata": {
        "colab": {
          "base_uri": "https://localhost:8080/"
        },
        "id": "EXWmIye-IHnG",
        "outputId": "3a92c221-627b-46b5-a676-edf56f0cbbde"
      },
      "execution_count": null,
      "outputs": [
        {
          "output_type": "stream",
          "name": "stdout",
          "text": [
            "sex           object\n",
            "age            int64\n",
            "traveltime     int64\n",
            "studytime      int64\n",
            "failures       int64\n",
            "schoolsup     object\n",
            "internet      object\n",
            "freetime       int64\n",
            "absences       int64\n",
            "G1             int64\n",
            "approved       int64\n",
            "dtype: object\n"
          ]
        }
      ]
    },
    {
      "cell_type": "code",
      "source": [
        "# Para ver o formato do DataFrame\n",
        "print(df.shape)"
      ],
      "metadata": {
        "colab": {
          "base_uri": "https://localhost:8080/"
        },
        "id": "8usCp17CILVW",
        "outputId": "6538c0ef-98c8-42bd-9561-975afeea42ba"
      },
      "execution_count": null,
      "outputs": [
        {
          "output_type": "stream",
          "name": "stdout",
          "text": [
            "(395, 11)\n"
          ]
        }
      ]
    },
    {
      "cell_type": "code",
      "source": [
        "# Configurar a precisão dos números para 2 casas decimais\n",
        "pd.set_option('display.precision', 2)\n",
        "\n",
        "# Para visualizar uma descrição estatística das variáveis numéricas\n",
        "print(df.describe())\n"
      ],
      "metadata": {
        "colab": {
          "base_uri": "https://localhost:8080/"
        },
        "id": "LC2aAExMIPkO",
        "outputId": "28219023-f98f-4d0f-9bb6-912150f0f3b1"
      },
      "execution_count": null,
      "outputs": [
        {
          "output_type": "stream",
          "name": "stdout",
          "text": [
            "          age  traveltime  studytime  failures  freetime  absences      G1  \\\n",
            "count  395.00      395.00     395.00    395.00    395.00    395.00  395.00   \n",
            "mean    16.70        1.45       2.04      0.33      3.24      5.71   10.91   \n",
            "std      1.28        0.70       0.84      0.74      1.00      8.00    3.32   \n",
            "min     15.00        1.00       1.00      0.00      1.00      0.00    3.00   \n",
            "25%     16.00        1.00       1.00      0.00      3.00      0.00    8.00   \n",
            "50%     17.00        1.00       2.00      0.00      3.00      4.00   11.00   \n",
            "75%     18.00        2.00       2.00      0.00      4.00      8.00   13.00   \n",
            "max     22.00        4.00       4.00      3.00      5.00     75.00   19.00   \n",
            "\n",
            "       approved  \n",
            "count    395.00  \n",
            "mean       0.25  \n",
            "std        0.44  \n",
            "min        0.00  \n",
            "25%        0.00  \n",
            "50%        0.00  \n",
            "75%        1.00  \n",
            "max        1.00  \n"
          ]
        }
      ]
    },
    {
      "cell_type": "code",
      "source": [
        "# 4.1) Remoção de instâncias com dados faltantes\n",
        "df = df.dropna()\n",
        "\n",
        "# 4.2) Remoção de instâncias duplicadas\n",
        "df = df.drop_duplicates()\n",
        "\n",
        "# 4.3) One-hot encoding de variáveis categóricas\n",
        "# Identificar variáveis categóricas. Neste caso, 'sex', 'schoolsup', 'internet' foram identificadas anteriormente.\n",
        "# Substitua 'variáveis_categóricas' pelas variáveis categóricas identificadas em seu conjunto de dados, se necessário.\n",
        "variaveis_categoricas = ['sex', 'schoolsup', 'internet']\n",
        "df_encoded = pd.get_dummies(df, columns=variaveis_categoricas, drop_first=True)\n",
        "\n",
        "# Visualizando as primeiras linhas do DataFrame após o pré-processamento\n",
        "print(df_encoded.head())"
      ],
      "metadata": {
        "colab": {
          "base_uri": "https://localhost:8080/"
        },
        "id": "3SHpgIdgJjag",
        "outputId": "be1f0bbd-4deb-4b92-8fde-96fc9687be7d"
      },
      "execution_count": null,
      "outputs": [
        {
          "output_type": "stream",
          "name": "stdout",
          "text": [
            "   age  traveltime  studytime  failures  freetime  absences  G1  approved  \\\n",
            "0   18           2          2         0         3         6   5         0   \n",
            "1   17           1          2         0         3         4   5         0   \n",
            "2   15           1          2         3         3        10   7         0   \n",
            "3   15           1          3         0         2         2  15         1   \n",
            "4   16           1          2         0         3         4   6         0   \n",
            "\n",
            "   sex_M  schoolsup_yes  internet_yes  \n",
            "0      0              1             0  \n",
            "1      0              0             1  \n",
            "2      0              1             1  \n",
            "3      0              0             1  \n",
            "4      0              0             0  \n"
          ]
        }
      ]
    },
    {
      "cell_type": "markdown",
      "source": [
        "------------------------------------------------------------------------"
      ],
      "metadata": {
        "id": "3AtM250IMZSF"
      }
    },
    {
      "cell_type": "markdown",
      "source": [
        "**Cenário 1: Sem pré-processamento adicional**"
      ],
      "metadata": {
        "id": "vD-YGQVmK4Df"
      }
    },
    {
      "cell_type": "code",
      "source": [
        "# 5) Treinando o modelo\n",
        "\n",
        "from sklearn.model_selection import train_test_split\n",
        "from sklearn.linear_model import LogisticRegression\n",
        "from sklearn.metrics import accuracy_score, precision_score, recall_score, f1_score\n",
        "\n",
        "# Definir as variáveis independentes (X) e a variável dependente (y)\n",
        "# Supondo que 'approved' é a variável dependente\n",
        "X = df_encoded.drop('approved', axis=1)\n",
        "y = df_encoded['approved']\n",
        "\n",
        "# Dividir os dados em conjunto de treinamento e conjunto de teste\n",
        "X_train, X_test, y_train, y_test = train_test_split(X, y, test_size=0.2, random_state=42)\n",
        "\n",
        "# Inicializar o modelo de Regressão Logística\n",
        "logistic_model = LogisticRegression(max_iter=1000)\n",
        "\n",
        "# Treinar o modelo com o conjunto de treinamento\n",
        "logistic_model.fit(X_train, y_train)\n",
        "\n",
        "# Prever os resultados do conjunto de teste\n",
        "y_pred = logistic_model.predict(X_test)\n",
        "\n",
        "# Avaliar o modelo\n",
        "accuracy = accuracy_score(y_test, y_pred)\n",
        "precision = precision_score(y_test, y_pred)\n",
        "recall = recall_score(y_test, y_pred)\n",
        "f1 = f1_score(y_test, y_pred)\n",
        "\n",
        "print(f\"Acurácia: {accuracy}\")\n",
        "print(f\"Precisão: {precision}\")\n",
        "print(f\"Recall: {recall}\")\n",
        "print(f\"F1-Score: {f1}\")\n"
      ],
      "metadata": {
        "colab": {
          "base_uri": "https://localhost:8080/"
        },
        "id": "35MVEEkKJ39_",
        "outputId": "d1247eaa-2d79-4d25-81d7-90322dca3ed8"
      },
      "execution_count": null,
      "outputs": [
        {
          "output_type": "stream",
          "name": "stdout",
          "text": [
            "Acurácia: 0.9113924050632911\n",
            "Precisão: 0.8571428571428571\n",
            "Recall: 0.8181818181818182\n",
            "F1-Score: 0.8372093023255814\n"
          ]
        }
      ]
    },
    {
      "cell_type": "markdown",
      "source": [
        "------------------------------------------------------------------------"
      ],
      "metadata": {
        "id": "l62kwvPYMO-D"
      }
    },
    {
      "cell_type": "markdown",
      "source": [
        "**Cenário 2: Com normalização dos dados**"
      ],
      "metadata": {
        "id": "PiMawAdtK9px"
      }
    },
    {
      "cell_type": "code",
      "source": [
        "from sklearn.preprocessing import MinMaxScaler\n",
        "\n",
        "# Inicializar o MinMaxScaler\n",
        "scaler = MinMaxScaler()\n",
        "\n",
        "# Normalizar as variáveis independentes\n",
        "X_normalized = scaler.fit_transform(X)\n",
        "\n",
        "# Dividir os dados normalizados em conjunto de treinamento e conjunto de teste\n",
        "X_train_norm, X_test_norm, y_train, y_test = train_test_split(X_normalized, y, test_size=0.2, random_state=42)\n",
        "\n",
        "# Treinar e avaliar o modelo com dados normalizados\n",
        "logistic_model.fit(X_train_norm, y_train)\n",
        "y_pred_norm = logistic_model.predict(X_test_norm)\n",
        "\n",
        "# Avaliar o modelo\n",
        "accuracy = accuracy_score(y_test, y_pred)\n",
        "precision = precision_score(y_test, y_pred)\n",
        "recall = recall_score(y_test, y_pred)\n",
        "f1 = f1_score(y_test, y_pred)\n",
        "\n",
        "print(f\"Acurácia: {accuracy}\")\n",
        "print(f\"Precisão: {precision}\")\n",
        "print(f\"Recall: {recall}\")\n",
        "print(f\"F1-Score: {f1}\")\n"
      ],
      "metadata": {
        "colab": {
          "base_uri": "https://localhost:8080/"
        },
        "id": "KO4HOjiDLAGX",
        "outputId": "1de02877-113b-4b53-f7a1-a229e2c015e1"
      },
      "execution_count": null,
      "outputs": [
        {
          "output_type": "stream",
          "name": "stdout",
          "text": [
            "Acurácia: 0.9113924050632911\n",
            "Precisão: 0.8947368421052632\n",
            "Recall: 0.7727272727272727\n",
            "F1-Score: 0.8292682926829269\n"
          ]
        }
      ]
    },
    {
      "cell_type": "markdown",
      "source": [
        "------------------------------------------------------------------------"
      ],
      "metadata": {
        "id": "u_4RbO8kMWTN"
      }
    },
    {
      "cell_type": "markdown",
      "source": [
        "**Cenário 3: Com padronização dos dados**"
      ],
      "metadata": {
        "id": "9VZ4OOC2LHM_"
      }
    },
    {
      "cell_type": "code",
      "source": [
        "from sklearn.preprocessing import StandardScaler\n",
        "\n",
        "# Inicializar o StandardScaler\n",
        "scaler = StandardScaler()\n",
        "\n",
        "# Padronizar as variáveis independentes\n",
        "X_standardized = scaler.fit_transform(X)\n",
        "\n",
        "# Dividir os dados padronizados em conjunto de treinamento e conjunto de teste\n",
        "X_train_std, X_test_std, y_train, y_test = train_test_split(X_standardized, y, test_size=0.2, random_state=42)\n",
        "\n",
        "# Treinar e avaliar o modelo com dados padronizados\n",
        "logistic_model.fit(X_train_std, y_train)\n",
        "y_pred_std = logistic_model.predict(X_test_std)\n",
        "\n",
        "# Avaliar o modelo\n",
        "accuracy = accuracy_score(y_test, y_pred)\n",
        "precision = precision_score(y_test, y_pred)\n",
        "recall = recall_score(y_test, y_pred)\n",
        "f1 = f1_score(y_test, y_pred)\n",
        "\n",
        "print(f\"Acurácia: {accuracy}\")\n",
        "print(f\"Precisão: {precision}\")\n",
        "print(f\"Recall: {recall}\")\n",
        "print(f\"F1-Score: {f1}\")"
      ],
      "metadata": {
        "colab": {
          "base_uri": "https://localhost:8080/"
        },
        "id": "_1EDyvATLJWf",
        "outputId": "1b54ed51-c6c2-4a0e-dd0f-4c6d86512041"
      },
      "execution_count": null,
      "outputs": [
        {
          "output_type": "stream",
          "name": "stdout",
          "text": [
            "Acurácia: 0.9113924050632911\n",
            "Precisão: 0.8947368421052632\n",
            "Recall: 0.7727272727272727\n",
            "F1-Score: 0.8292682926829269\n"
          ]
        }
      ]
    }
  ]
}